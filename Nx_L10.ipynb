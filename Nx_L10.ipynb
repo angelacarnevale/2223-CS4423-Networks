{
 "cells": [
  {
   "cell_type": "markdown",
   "metadata": {
    "slideshow": {
     "slide_type": "skip"
    }
   },
   "source": [
    "### CS4423 - Networks\n",
    "Angela Carnevale<br />\n",
    "School of Mathematical and Statistical Sciences<br />\n",
    "University of Galway"
   ]
  },
  {
   "cell_type": "markdown",
   "metadata": {
    "slideshow": {
     "slide_type": "slide"
    }
   },
   "source": [
    "#### 3. Centrality Measures\n",
    "\n",
    "# Week 6, lecture 1: More on Eigenvector Centrality. \n",
    "\n",
    "# Closeness and Betweenness  Centrality"
   ]
  },
  {
   "cell_type": "markdown",
   "metadata": {
    "slideshow": {
     "slide_type": "subslide"
    }
   },
   "source": [
    "We quickly review the **eigenvector centrality** of a node, and then study two more centrality measures\n",
    "* **closeness** centrality and\n",
    "* **betweenness** centrality.\n",
    "\n",
    "We will compare all centralities studied  in the\n",
    "example of the marital ties graph of the Florentine families.\n",
    "\n",
    "Import the packages (including a `Queue` for BFS) and our standard set of drawing options:"
   ]
  },
  {
   "cell_type": "code",
   "execution_count": null,
   "metadata": {
    "slideshow": {
     "slide_type": "subslide"
    }
   },
   "outputs": [],
   "source": [
    "import networkx as nx\n",
    "import pandas as pd\n",
    "import yaml\n",
    "from queue import Queue\n",
    "opts = { \"with_labels\": True, \"node_color\": 'y'}"
   ]
  },
  {
   "cell_type": "markdown",
   "metadata": {
    "slideshow": {
     "slide_type": "subslide"
    }
   },
   "source": [
    "Next, recover the graph `G` of marital ties between Florentine families, together with the node attributes we have already determined."
   ]
  },
  {
   "cell_type": "code",
   "execution_count": null,
   "metadata": {
    "slideshow": {
     "slide_type": "fragment"
    }
   },
   "outputs": [],
   "source": [
    "with open('data/florentine.yml', 'r') as f:\n",
    "    G=yaml.load(f,Loader=yaml.Loader)\n",
    "    "
   ]
  },
  {
   "cell_type": "code",
   "execution_count": null,
   "metadata": {
    "slideshow": {
     "slide_type": "subslide"
    }
   },
   "outputs": [],
   "source": [
    "G.nodes['Medici']"
   ]
  },
  {
   "cell_type": "code",
   "execution_count": null,
   "metadata": {},
   "outputs": [],
   "source": [
    "pd.DataFrame.from_dict(\n",
    "    dict(G.nodes(data=True)), \n",
    "    orient='index'\n",
    ").sort_values('degree', ascending=False)"
   ]
  },
  {
   "cell_type": "markdown",
   "metadata": {
    "slideshow": {
     "slide_type": "subslide"
    }
   },
   "source": [
    "We have seen that an eigenvector of the adjacency matrix might be a useful indicator of the centrality of the nodes of a network. Some observations:\n",
    "* Ideally, for an eigenvector to be a _reasonable_ centrality measure, we would like its components to be positive. \n",
    "\n",
    "* Also, we'd like for the eigenvalue to be positive, and for the choice of eigenvalue/eigenvector to be somewhat canonical. \n",
    "\n",
    "* Luckily, the following result, which provides the theoretical foundation for this approach, solves all these problems."
   ]
  },
  {
   "cell_type": "markdown",
   "metadata": {
    "slideshow": {
     "slide_type": "subslide"
    }
   },
   "source": [
    "<b>Theorem.</b> [[Perron-Frobenius for irreducible matrices. 1907/1912]](https://en.wikipedia.org/wiki/Perron%E2%80%93Frobenius_theorem)\n",
    "Suppose that $A$ is a square, nonnegative (entry-wise), irreducible matrix. Then:\n",
    "\n",
    "* $A$ has a real eigenvalue $\\lambda > 0$ with $\\lambda \\geq |\\lambda'|$ for all\n",
    "eigenvalues $\\lambda'$ of $A$;\n",
    "* $\\lambda$ is a simple root of the characteristic polynomial of $A$;\n",
    "* there is a $\\lambda$-eigenvector $v$ with $v > 0$.\n"
   ]
  },
  {
   "cell_type": "markdown",
   "metadata": {
    "slideshow": {
     "slide_type": "subslide"
    }
   },
   "source": [
    "Here, a matrix $A$ is called **reducible** if, for some simultaneous\n",
    "permutation of its rows and columns, it has the block form\n",
    "$$\n",
    "A = \\left( \n",
    "\\begin{array}{cc}\n",
    "A_{11} & A_{12} \\\\\n",
    "0 & A_{22}\n",
    "\\end{array}\n",
    "\\right).\n",
    "$$\n",
    "And $A$ is **irreducible** if it is not reducible.\n",
    "\n",
    "**Useful fact.** The adjacency matrix of a simple graph $G$ is irreducible if and only if $G$ is connected."
   ]
  },
  {
   "cell_type": "markdown",
   "metadata": {
    "slideshow": {
     "slide_type": "subslide"
    }
   },
   "source": [
    "**Example.** Recall that\n",
    "$$\n",
    "\\left(\\begin{array}{cc}\n",
    "3 & 1 \\\\ 2 & 2\\end{array}\n",
    "\\right)\n",
    "\\, \n",
    "\\left(\\begin{array}{c} 1 \\\\ 1 \\end{array} \\right) = \n",
    "\\left(\\begin{array}{c}4 \\\\ 4\\end{array}\\right)=4 \\,\n",
    "\\left(\n",
    "\\begin{array}{c}\n",
    "1 \\\\ 1\n",
    "\\end{array}\n",
    "\\right),\n",
    "$$\n",
    "making the vector $(^1_1)$ an **eigenvector** for the **eigenvalue**\n",
    "$\\lambda = 4$ of the matrix $A$. "
   ]
  },
  {
   "cell_type": "markdown",
   "metadata": {
    "slideshow": {
     "slide_type": "subslide"
    }
   },
   "source": [
    "In this example\n",
    "* all entries $a_{ij}$ of  the matrix $A = (a_{ij})$ are positive;\n",
    "* the eigenvalue $4$ is strictly larger than the magnitude $|\\lambda'|$ of all the other (complex or real) eigenvalues of\n",
    "$A$ (here, $\\lambda' = -1$);\n",
    "* and the eigenvalue $\\lambda = 4$ has an eigenvector with\n",
    "all its entries positive.\n",
    "\n",
    "    \n",
    "The Perron-Frobenius Theorem states that the above observations are **no\n",
    "coincidence**."
   ]
  },
  {
   "cell_type": "markdown",
   "metadata": {
    "slideshow": {
     "slide_type": "subslide"
    }
   },
   "source": [
    "**Definition (Eigenvector centrality).**  In a simple, connected graph $G$,\n",
    "the **eigenvector centrality** $c_i^E$ of node $i$ is defined as\n",
    "$$\n",
    "c_i^E = u_i,\n",
    "$$\n",
    "where $u = (u_1, \\dots, u_n)$ is the (unique) normalized eigenvector\n",
    "of the adjacency matrix $A$ of $G$\n",
    "with eigenvalue $\\lambda$, and where $\\lambda > |\\lambda'|$\n",
    "for all eigenvalues $\\lambda'$ of $A$."
   ]
  },
  {
   "cell_type": "markdown",
   "metadata": {
    "slideshow": {
     "slide_type": "subslide"
    }
   },
   "source": [
    "The **normalised eigenvector centrality** of node $i$ is defined as\n",
    "$$\n",
    "C_i^E = \\frac{c_i^E}{C^E},\n",
    "$$\n",
    "where $C^E = \\sum_j c_j^E$."
   ]
  },
  {
   "cell_type": "markdown",
   "metadata": {
    "slideshow": {
     "slide_type": "subslide"
    }
   },
   "source": [
    "There's an isolated node in our graph. Let's remove it before proceeding."
   ]
  },
  {
   "cell_type": "markdown",
   "metadata": {
    "slideshow": {
     "slide_type": "subslide"
    }
   },
   "source": [
    "We have computed the eigenvector centrality of the nodes with the dedicated `networkx` function as follows:"
   ]
  },
  {
   "cell_type": "code",
   "execution_count": 2,
   "metadata": {
    "slideshow": {
     "slide_type": "fragment"
    }
   },
   "outputs": [
    {
     "ename": "NameError",
     "evalue": "name 'nx' is not defined",
     "output_type": "error",
     "traceback": [
      "\u001b[0;31m---------------------------------------------------------------------------\u001b[0m",
      "\u001b[0;31mNameError\u001b[0m                                 Traceback (most recent call last)",
      "\u001b[0;32m/var/folders/rc/1d_x3ptd6zdd48t1mt0pd6xw0000gn/T/ipykernel_29984/3426793190.py\u001b[0m in \u001b[0;36m<module>\u001b[0;34m\u001b[0m\n\u001b[0;32m----> 1\u001b[0;31m \u001b[0meigen_cen\u001b[0m \u001b[0;34m=\u001b[0m \u001b[0mnx\u001b[0m\u001b[0;34m.\u001b[0m\u001b[0meigenvector_centrality\u001b[0m\u001b[0;34m(\u001b[0m\u001b[0mG\u001b[0m\u001b[0;34m)\u001b[0m\u001b[0;34m\u001b[0m\u001b[0;34m\u001b[0m\u001b[0m\n\u001b[0m\u001b[1;32m      2\u001b[0m \u001b[0meigen_cen\u001b[0m\u001b[0;34m\u001b[0m\u001b[0;34m\u001b[0m\u001b[0m\n",
      "\u001b[0;31mNameError\u001b[0m: name 'nx' is not defined"
     ]
    }
   ],
   "source": [
    "eigen_cen = nx.eigenvector_centrality(G)\n",
    "eigen_cen"
   ]
  },
  {
   "cell_type": "markdown",
   "metadata": {
    "slideshow": {
     "slide_type": "slide"
    }
   },
   "source": [
    "## Closeness Centrality"
   ]
  },
  {
   "cell_type": "markdown",
   "metadata": {
    "slideshow": {
     "slide_type": "fragment"
    }
   },
   "source": [
    "A node $x$ in a network can be regarded as being central, if it is **close** to (many) other nodes, \n",
    "as it can then quickly interact with them. \n",
    "\n",
    "As \"lower distance &harr; greater importance\", a simple way to measure closeness in this sense\n",
    "is based on the sum of all the distances to the other nodes, as follows."
   ]
  },
  {
   "cell_type": "markdown",
   "metadata": {
    "slideshow": {
     "slide_type": "subslide"
    }
   },
   "source": [
    "**Definition (Closeness Centrality).**\n",
    "In a simple, **connected** graph $G$ of order $n$, the **closeness centrality** $c_i^C$ of node $i$\n",
    "is defined as\n",
    "$$\n",
    "c_i^C = \\frac{1}{\\sum_{j=1}^n d_{ij}}.\n",
    "$$"
   ]
  },
  {
   "cell_type": "markdown",
   "metadata": {
    "slideshow": {
     "slide_type": "subslide"
    }
   },
   "source": [
    "As always, together with the raw numbers, we consider the normalised ones."
   ]
  },
  {
   "cell_type": "markdown",
   "metadata": {
    "slideshow": {
     "slide_type": "fragment"
    }
   },
   "source": [
    "The **normalised closeness centrality** of node $i$, defined as\n",
    "$$\n",
    "C_i^C = (n-1) c_i^C\n",
    "$$\n",
    "takes values in the interval $[0, 1]$.\n",
    "</div>"
   ]
  },
  {
   "cell_type": "markdown",
   "metadata": {
    "slideshow": {
     "slide_type": "subslide"
    }
   },
   "source": [
    "**Problem.** How to compute $c_i^C$? "
   ]
  },
  {
   "cell_type": "markdown",
   "metadata": {
    "slideshow": {
     "slide_type": "fragment"
    }
   },
   "source": [
    "**BFS again.**  \n",
    "\n",
    "* The following `python` function implements\n",
    "BFS for shortest distance from a previous lecture.  \n",
    "* It takes a graph $G = (X, E)$ and a vertex $x \\in X$\n",
    "as its arguments. \n",
    "* It returns a **dictionary**, which assigns to each node its distance to $x$."
   ]
  },
  {
   "cell_type": "code",
   "execution_count": null,
   "metadata": {
    "slideshow": {
     "slide_type": "subslide"
    }
   },
   "outputs": [],
   "source": [
    "def distances(G, x):\n",
    "    \n",
    "    # 1. init: set up the dictionary and a queue\n",
    "    dists = { y: None for y in G } # distances\n",
    "    Q = Queue() # queue of nodes to be visited\n",
    "    dists[x] = 0\n",
    "    Q.put(x)\n",
    "    \n",
    "    # 2. loop\n",
    "    while not Q.empty(): \n",
    "        y = Q.get() \n",
    "        for z in G.neighbors(y):\n",
    "            if dists[z] is None:\n",
    "                dists[z] = dists[y] + 1\n",
    "                Q.put(z)\n",
    "    \n",
    "    # 3. stop here\n",
    "    return dists"
   ]
  },
  {
   "cell_type": "markdown",
   "metadata": {
    "slideshow": {
     "slide_type": "subslide"
    }
   },
   "source": [
    "* For example, the distance from node `'Medici'` to all nodes in `G`:"
   ]
  },
  {
   "cell_type": "code",
   "execution_count": null,
   "metadata": {
    "slideshow": {
     "slide_type": "fragment"
    }
   },
   "outputs": [],
   "source": [
    "d = distances(G, 'Medici')\n",
    "print(d)"
   ]
  },
  {
   "cell_type": "markdown",
   "metadata": {
    "slideshow": {
     "slide_type": "subslide"
    }
   },
   "source": [
    "**Note.** \n",
    "\n",
    "* On the isolated node `'Pucci'` the above would have returned an undefined distance from all nodes other than itself. \n",
    "\n",
    "* When a node is isolated, the sum of all the distances from it is $0$, causing a **division-by-zero error**. But we've removed the only isolated node in our graph so we're safe."
   ]
  },
  {
   "cell_type": "markdown",
   "metadata": {
    "slideshow": {
     "slide_type": "subslide"
    }
   },
   "source": [
    "* Use `distances` to compute the normalized closeness centrality according to the above\n",
    "definition."
   ]
  },
  {
   "cell_type": "code",
   "execution_count": null,
   "metadata": {
    "slideshow": {
     "slide_type": "fragment"
    }
   },
   "outputs": [],
   "source": [
    "n = G.order()\n",
    "closeness = { x : (n-1)/sum(distances(G, x).values()) for x in G }"
   ]
  },
  {
   "cell_type": "code",
   "execution_count": null,
   "metadata": {
    "slideshow": {
     "slide_type": "subslide"
    }
   },
   "outputs": [],
   "source": [
    "closeness"
   ]
  },
  {
   "cell_type": "markdown",
   "metadata": {
    "slideshow": {
     "slide_type": "subslide"
    }
   },
   "source": [
    "* Compare the results to the `networkx` version of closeness:"
   ]
  },
  {
   "cell_type": "code",
   "execution_count": null,
   "metadata": {
    "slideshow": {
     "slide_type": "subslide"
    }
   },
   "outputs": [],
   "source": [
    "nx.closeness_centrality(G)"
   ]
  },
  {
   "cell_type": "code",
   "execution_count": null,
   "metadata": {
    "slideshow": {
     "slide_type": "subslide"
    }
   },
   "outputs": [],
   "source": [
    "nx.closeness_centrality(G) == closeness"
   ]
  },
  {
   "cell_type": "markdown",
   "metadata": {
    "slideshow": {
     "slide_type": "subslide"
    }
   },
   "source": [
    "* Let's add those measurements to the table."
   ]
  },
  {
   "cell_type": "code",
   "execution_count": null,
   "metadata": {
    "slideshow": {
     "slide_type": "fragment"
    }
   },
   "outputs": [],
   "source": [
    "nx.set_node_attributes(G, closeness, '$C_i^C$')"
   ]
  },
  {
   "cell_type": "code",
   "execution_count": null,
   "metadata": {
    "scrolled": true,
    "slideshow": {
     "slide_type": "subslide"
    }
   },
   "outputs": [],
   "source": [
    "pd.DataFrame.from_dict(\n",
    "    dict(G.nodes(data=True)), \n",
    "    orient='index'\n",
    ").sort_values('degree', ascending=False)"
   ]
  },
  {
   "cell_type": "markdown",
   "metadata": {},
   "source": [
    "We update our file with the most recent data for later use."
   ]
  },
  {
   "cell_type": "code",
   "execution_count": null,
   "metadata": {},
   "outputs": [],
   "source": [
    "with open('data/florentine.yml', 'w') as f:\n",
    "    yaml.dump(G,f)\n",
    "    "
   ]
  },
  {
   "cell_type": "markdown",
   "metadata": {
    "slideshow": {
     "slide_type": "slide"
    }
   },
   "source": [
    "## Betweenness Centrality"
   ]
  },
  {
   "cell_type": "markdown",
   "metadata": {
    "slideshow": {
     "slide_type": "subslide"
    }
   },
   "source": [
    "When interactions between non-adjacent agents in a network depend\n",
    "on middle actors (sitting on shortest paths between these agents), **power comes\n",
    "to those in the middle**.  Betweenness centrality measures centrality\n",
    "in terms of the number of shortest paths a node lies on."
   ]
  },
  {
   "cell_type": "markdown",
   "metadata": {
    "slideshow": {
     "slide_type": "subslide"
    }
   },
   "source": [
    "**Definition (Betweenness Centrality).**\n",
    "In a simple, connected graph $G$, the **betweenness centrality** $c_i^B$ of node $i$\n",
    "is defined as\n",
    "$$\n",
    "c_i^B = \\sum_{j \\neq i} \\sum_{k \\neq i} \\frac{n_{jk}(i)}{n_{jk}},\n",
    "$$\n",
    "where $n_{jk}$ denotes the **number** of shortest paths from\n",
    "node $j$ to node $k$, and where $n_{jk}(i)$ denotes the\n",
    "number of those shortest paths **passing through** node $i$."
   ]
  },
  {
   "cell_type": "markdown",
   "metadata": {
    "slideshow": {
     "slide_type": "subslide"
    }
   },
   "source": [
    "That is, the betweenness centrality of node $i$ is the sum of the **proportions of shortest paths passing through $i$** among all shortest paths between any two vertices.\n",
    "\n",
    "Once more, we'd like to get a normalised version of this measure, so as to make it comparable to the other measures we found."
   ]
  },
  {
   "cell_type": "markdown",
   "metadata": {
    "slideshow": {
     "slide_type": "subslide"
    }
   },
   "source": [
    "The **normalised betweenness centrality** of node $i$, defined as\n",
    "$$\n",
    "C_i^B = \\frac{c_i^B}{(n-1)(n-2)}\n",
    "$$\n",
    "takes values in the interval $[0, 1]$.\n",
    "</div>"
   ]
  },
  {
   "cell_type": "markdown",
   "metadata": {
    "slideshow": {
     "slide_type": "fragment"
    }
   },
   "source": [
    "* Note that $(n-1)(n-2)$ is the largest number of shortest paths beween pairs of distinct nodes that a given node could possibly sit on."
   ]
  },
  {
   "cell_type": "markdown",
   "metadata": {
    "slideshow": {
     "slide_type": "subslide"
    }
   },
   "source": [
    "* How to compute $C_i^B$?"
   ]
  },
  {
   "cell_type": "markdown",
   "metadata": {
    "slideshow": {
     "slide_type": "subslide"
    }
   },
   "source": [
    "**BFS once more.**  This time as a python function, which returns a **dictionary** that contains, for each node $x$, a list of **immediate predecessors** of $y$\n",
    "in a shortest path from $x$ to $y$.  We have already seen that this another piece of information that BFS can determine\n",
    "on the fly: when constructing a **spanning tree** while traversing a graph, we need to remember **one**\n",
    "immediate predecessor for each newly discovered node.  Here we determine and remember **all** immediate\n",
    "predecessors, requiring little if no extra work."
   ]
  },
  {
   "cell_type": "markdown",
   "metadata": {
    "slideshow": {
     "slide_type": "subslide"
    }
   },
   "source": [
    "From this list of predecessors, one can then recursively reconstruct **all shortest paths** from $x$ to $y$.\n",
    "We still need to keep track of the shortest path lengths in order to decide which neighbor $x$\n",
    "actually is a predecessor of $y$."
   ]
  },
  {
   "cell_type": "code",
   "execution_count": null,
   "metadata": {
    "slideshow": {
     "slide_type": "subslide"
    }
   },
   "outputs": [],
   "source": [
    "def predecessors(G, x):\n",
    "    \n",
    "    # 1. init: set up the two dictionaries and queue\n",
    "    dists = { y: None for y in G } # distances\n",
    "    preds = { y: [] for y in G } \n",
    "    Q = Queue()\n",
    "    dists[x] = 0\n",
    "    Q.put(x)\n",
    "    \n",
    "    # 2. loop\n",
    "    while not Q.empty():\n",
    "        y = Q.get()\n",
    "        for z in G.neighbors(y):\n",
    "            if dists[z] is None:\n",
    "                dists[z] = dists[y] + 1\n",
    "                preds[z].append(y)\n",
    "                Q.put(z)\n",
    "            elif dists[z] > dists[y]:\n",
    "                preds[z].append(y)\n",
    "    \n",
    "    # 3. stop here\n",
    "    return preds"
   ]
  },
  {
   "cell_type": "code",
   "execution_count": null,
   "metadata": {
    "slideshow": {
     "slide_type": "subslide"
    }
   },
   "outputs": [],
   "source": [
    "p = predecessors(G, 'Medici')\n",
    "p"
   ]
  },
  {
   "cell_type": "code",
   "execution_count": null,
   "metadata": {
    "scrolled": true,
    "slideshow": {
     "slide_type": "subslide"
    }
   },
   "outputs": [],
   "source": [
    "nx.draw(G, **opts)"
   ]
  },
  {
   "cell_type": "markdown",
   "metadata": {
    "slideshow": {
     "slide_type": "subslide"
    }
   },
   "source": [
    "We'll see next week how these lists of predecessors can be used to form (and count) the shortest paths within $G$."
   ]
  },
  {
   "cell_type": "markdown",
   "metadata": {
    "slideshow": {
     "slide_type": "subslide"
    }
   },
   "source": [
    "Using the **predecessor lists** with respect to $x$, the **shortest paths** from $x$ to $y$ can be enumerated recursively:\n",
    "* if $y = x$: the shortest path from $x$ to itself is the empty path starting an ending at $x$.\n",
    "* else, if $y \\neq x$ then each shortest path from $x$ to $y$ travels through\n",
    "  exactly one of $y$'s predecessors ... and ends in $y$."
   ]
  },
  {
   "cell_type": "markdown",
   "metadata": {
    "slideshow": {
     "slide_type": "subslide"
    }
   },
   "source": [
    "So, in formulas, $S_x(x) = \\{(x)\\}$ and\n",
    "$$\n",
    "S_x(y) = \\{ p + (y) : p \\in S_x(z),\\, z \\in \\mathrm{pre}_x(y)\\}\n",
    "$$"
   ]
  },
  {
   "cell_type": "code",
   "execution_count": null,
   "metadata": {
    "slideshow": {
     "slide_type": "subslide"
    }
   },
   "outputs": [],
   "source": [
    "def shortest_paths(x, y, pre):\n",
    "    if x == y:\n",
    "        return [[x]]\n",
    "    paths = []\n",
    "    for z in pre[y]:\n",
    "        for path in shortest_paths(x, z, pre):\n",
    "            paths.append(path + [y])\n",
    "    return paths"
   ]
  },
  {
   "cell_type": "code",
   "execution_count": null,
   "metadata": {
    "slideshow": {
     "slide_type": "subslide"
    }
   },
   "outputs": [],
   "source": [
    "def spaths(x, y, pre):\n",
    "    if x == y:\n",
    "        return [[x]]\n",
    "    return [ p + [y] for p in spaths(x, z, pre) for z in pre[y] ]"
   ]
  },
  {
   "cell_type": "code",
   "execution_count": null,
   "metadata": {
    "slideshow": {
     "slide_type": "subslide"
    }
   },
   "outputs": [],
   "source": [
    "shortest_paths('Medici', 'Bischeri', p)"
   ]
  },
  {
   "cell_type": "markdown",
   "metadata": {
    "slideshow": {
     "slide_type": "subslide"
    }
   },
   "source": [
    "* Now compute betweenness:"
   ]
  },
  {
   "cell_type": "code",
   "execution_count": null,
   "metadata": {},
   "outputs": [],
   "source": [
    "betweenness = { x : 0.0 for x in G }"
   ]
  },
  {
   "cell_type": "code",
   "execution_count": null,
   "metadata": {
    "slideshow": {
     "slide_type": "subslide"
    }
   },
   "outputs": [],
   "source": [
    "for x in G:\n",
    "    pre = predecessors(G, x)\n",
    "    for y in G:\n",
    "        paths = shortest_paths(x, y, pre)\n",
    "        njk = len(paths)*(n-1)*(n-2)  # normalize\n",
    "        for p in paths:\n",
    "            for z in p[1:-1]:  # exclude endpoints\n",
    "                betweenness[z] += 1/njk"
   ]
  },
  {
   "cell_type": "code",
   "execution_count": null,
   "metadata": {
    "slideshow": {
     "slide_type": "subslide"
    }
   },
   "outputs": [],
   "source": [
    "betweenness"
   ]
  },
  {
   "cell_type": "markdown",
   "metadata": {
    "slideshow": {
     "slide_type": "subslide"
    }
   },
   "source": [
    "* Compare the results to the `networkx` version of betweenness:"
   ]
  },
  {
   "cell_type": "code",
   "execution_count": null,
   "metadata": {
    "scrolled": false
   },
   "outputs": [],
   "source": [
    "nx.betweenness_centrality(G)"
   ]
  },
  {
   "cell_type": "code",
   "execution_count": null,
   "metadata": {
    "slideshow": {
     "slide_type": "subslide"
    }
   },
   "outputs": [],
   "source": [
    "nx.draw(G, **opts)"
   ]
  },
  {
   "cell_type": "markdown",
   "metadata": {
    "slideshow": {
     "slide_type": "subslide"
    }
   },
   "source": [
    "* Finally, let's add the normalized betweenness centralities as attributes to the\n",
    "nodes of the graph, and display the resulting table."
   ]
  },
  {
   "cell_type": "code",
   "execution_count": null,
   "metadata": {
    "slideshow": {
     "slide_type": "fragment"
    }
   },
   "outputs": [],
   "source": [
    "nx.set_node_attributes(G, betweenness, '$C_i^B$')"
   ]
  },
  {
   "cell_type": "code",
   "execution_count": null,
   "metadata": {
    "slideshow": {
     "slide_type": "subslide"
    }
   },
   "outputs": [],
   "source": [
    "pd.DataFrame.from_dict(\n",
    "    dict(G.nodes(data=True)), \n",
    "    orient='index'\n",
    ").sort_values('degree', ascending=False)"
   ]
  },
  {
   "cell_type": "code",
   "execution_count": null,
   "metadata": {},
   "outputs": [],
   "source": [
    "with open('data/florentine.yml', 'w') as f:\n",
    "    yaml.dump(G,f)\n",
    "    "
   ]
  },
  {
   "cell_type": "markdown",
   "metadata": {
    "slideshow": {
     "slide_type": "slide"
    }
   },
   "source": [
    "##  Summary"
   ]
  },
  {
   "cell_type": "markdown",
   "metadata": {
    "slideshow": {
     "slide_type": "subslide"
    }
   },
   "source": [
    "There are many different ways to be important.  As a node in a network, you are important if\n",
    "* you have **many friends** (degree centrality)\n",
    "* you have **important friends** (eigenvector centrality)\n",
    "* you are **close** to many (closeness centrality)\n",
    "* many interactions **pass through** you (betweenness centralty)."
   ]
  },
  {
   "cell_type": "markdown",
   "metadata": {
    "slideshow": {
     "slide_type": "slide"
    }
   },
   "source": [
    "##  Code Corner"
   ]
  },
  {
   "cell_type": "markdown",
   "metadata": {
    "slideshow": {
     "slide_type": "subslide"
    }
   },
   "source": [
    "### `networkx`"
   ]
  },
  {
   "cell_type": "markdown",
   "metadata": {},
   "source": [
    "* `closeness_centrality`: [[doc]](https://networkx.github.io/documentation/stable/reference/algorithms/generated/networkx.algorithms.centrality.closeness_centrality.html#networkx.algorithms.centrality.closeness_centrality)\n",
    "   \n",
    "    \n",
    "* `betweenness_centrality`: [[doc]](https://networkx.github.io/documentation/stable/reference/algorithms/generated/networkx.algorithms.centrality.betweenness_centrality.html#networkx.algorithms.centrality.betweenness_centrality)"
   ]
  },
  {
   "cell_type": "markdown",
   "metadata": {
    "slideshow": {
     "slide_type": "subslide"
    }
   },
   "source": [
    "## Exercises\n",
    "\n",
    "1. Recall that $C_i^C$ is the normalized closeness centrality of node $i$.  Why\n",
    "   is $0 \\leq C_i^C \\leq 1$?  When is $C_i^C = 1$?  Is $C_i^C$ ever $0$?\n",
    "\n",
    "2. Recall that $C_i^B$ is the normalized betweenness centrality of node $i$.\n",
    "   Why is $0 \\leq C_i^B \\leq 1$?  When is $C_i^B = 1$?  Is $C_i^B$ ever $0$?\n",
    "   \n",
    "3. Determine the closeness centrality and the betweenness centrality of the nodes in some\n",
    "   random trees.  What do you observe?\n",
    "   \n",
    "3. Compute the closeness centrality and the betweenness centrality of the nodes of the Petersen graph.\n",
    "   What do you observe?"
   ]
  },
  {
   "cell_type": "code",
   "execution_count": null,
   "metadata": {},
   "outputs": [],
   "source": []
  }
 ],
 "metadata": {
  "celltoolbar": "Slideshow",
  "kernelspec": {
   "display_name": "Python 3 (ipykernel)",
   "language": "python",
   "name": "python3"
  },
  "language_info": {
   "codemirror_mode": {
    "name": "ipython",
    "version": 3
   },
   "file_extension": ".py",
   "mimetype": "text/x-python",
   "name": "python",
   "nbconvert_exporter": "python",
   "pygments_lexer": "ipython3",
   "version": "3.9.7"
  }
 },
 "nbformat": 4,
 "nbformat_minor": 2
}
