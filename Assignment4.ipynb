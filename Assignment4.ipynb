{
 "cells": [
  {
   "cell_type": "markdown",
   "metadata": {},
   "source": [
    "### CS4423 - Networks\n",
    "Angela Carnevale <br/>\n",
    "School of Mathematical and Statistical Sciences<br />\n",
    "University of Galway"
   ]
  },
  {
   "cell_type": "markdown",
   "metadata": {},
   "source": [
    "# Assignment 4"
   ]
  },
  {
   "cell_type": "markdown",
   "metadata": {},
   "source": [
    "Provide answers to the problems in the boxes provided.  \n",
    "\n",
    "The buttons at the top of the page can be used to **create\n",
    "more boxes if needed**.\n",
    "The type of box can be changed from `Code` to `Markdown`.\n",
    "`Code` boxes take (and execute) `python` code.\n",
    "`Markdown` boxes take (and format nicely) **text input**.\n",
    "In this way, you can provide answers, ask questions, \n",
    "or raise issues, in words.\n",
    "\n",
    "When finished, please print this notebook into a **pdf** file and submit this to\n",
    "**blackboard**.\n",
    "\n",
    "**Deadline** is Monday 27 March at 5pm."
   ]
  },
  {
   "cell_type": "markdown",
   "metadata": {},
   "source": [
    "## Setup"
   ]
  },
  {
   "cell_type": "markdown",
   "metadata": {},
   "source": [
    "This is a `jupyter` notebook.   You can open and interact\n",
    "with the notebook through Binder.\n",
    "Or, you can\n",
    "install and use `jupyter` as a `python` package on your own laptop or PC.  "
   ]
  },
  {
   "cell_type": "markdown",
   "metadata": {},
   "source": [
    "The following command loads the `networkx` package into the current session.  \n",
    "The next command specifies some standard options that can be useful for drawing graphs.  \n",
    "\n",
    "In order to execute the code in a box,\n",
    "use the mouse or arrow keys to highlight the box and then press SHIFT-RETURN."
   ]
  },
  {
   "cell_type": "code",
   "execution_count": null,
   "metadata": {},
   "outputs": [],
   "source": [
    "import networkx as nx\n",
    "import pandas as pd\n",
    "import matplotlib.pyplot as plt\n",
    "opts = { \"with_labels\": True, \"node_color\": 'y' }"
   ]
  },
  {
   "cell_type": "markdown",
   "metadata": {},
   "source": [
    "Should it ever happen that the notebook becomes unusable, start again with a fresh copy."
   ]
  },
  {
   "cell_type": "markdown",
   "metadata": {},
   "source": [
    "## 1.  The Brain-of-a-Worm Network"
   ]
  },
  {
   "cell_type": "markdown",
   "metadata": {},
   "source": [
    "The [connectome](https://en.wikipedia.org/wiki/Connectome) of an organism is a comprehensive map of\n",
    "all neural connections between the neurons in the brain.   [C. Elegans](https://en.wikipedia.org/wiki/Caenorhabditis_elegans) is a small worm (1mm long)\n",
    "whose neural network has been completely determined by the South African biologist [Sydney Brenner](https://en.wikipedia.org/wiki/Sydney_Brenner), who won a Nobel prize for this work in 2002.\n",
    "\n",
    "An *undirected* connected version of this network on 279 nodes with 2287 connections is available from the \n",
    "book's [website](http://www.complex-networks.net/) and is copied here into a single file [`c_elegans_undir.net`](c_elegans_undir.net).  This file is in the [pajek](http://mrvar.fdv.uni-lj.si/pajek/) format,\n",
    "and can be imported into this notebook with the `nx.read_pajek` command.  This command\n",
    "constructs a *multigraph*, which can easily be converted into a (simple) graph by applying \n",
    "the `nx.Graph` constructor to it."
   ]
  },
  {
   "cell_type": "code",
   "execution_count": null,
   "metadata": {},
   "outputs": [],
   "source": [
    "G = nx.read_pajek(\"data/c_elegans_undir.net\")\n",
    "G = nx.Graph(G)"
   ]
  },
  {
   "cell_type": "markdown",
   "metadata": {},
   "source": [
    "**Don't draw this graph!** It is too big to produce a meaningful picture and could compromise your notebook."
   ]
  },
  {
   "cell_type": "markdown",
   "metadata": {},
   "source": [
    "Use appropriate `networkx` commands to determine:\n",
    "* the number of vertices $n$ of `G`,\n",
    "* the number of edges $m$ of `G`,\n",
    "* the characteristic path length $L$ of `G`,\n",
    "* the clustering coefficient $C$ of `G`,\n",
    "* the number of triangles $n_{\\Delta}$ in `G` and\n",
    "* the transitivity $T = 3 n_{\\Delta} / n_{\\wedge}$ of `G`."
   ]
  },
  {
   "cell_type": "code",
   "execution_count": null,
   "metadata": {},
   "outputs": [],
   "source": [
    "## your code here"
   ]
  },
  {
   "cell_type": "code",
   "execution_count": null,
   "metadata": {},
   "outputs": [],
   "source": [
    "## your code here"
   ]
  },
  {
   "cell_type": "markdown",
   "metadata": {},
   "source": [
    "## 2. Degree Distribution"
   ]
  },
  {
   "cell_type": "markdown",
   "metadata": {},
   "source": [
    "Any graph $G$ with $n$ nodes and $m$ edges can be compared to a random $G(n, m)$\n",
    "graph with the same parameters, or to a random $G(n, p)$ graph with parameter $p = m/\\binom{n}{2}$.\n",
    "One attribute of interest is the [**degree distribution**](https://en.wikipedia.org/wiki/Degree_distribution) of $G$.  We know that the degree distribution \n",
    "of a random $G(n, p)$ graph is [binomial](https://en.wikipedia.org/wiki/Binomial_distribution).  How does the worm's brain compare to that?\n",
    "\n",
    "For example, with  $n = 100$ and $m = 292$, one can generate a random graph and\n",
    "plot its node degrees as a histogram, as follows:"
   ]
  },
  {
   "cell_type": "code",
   "execution_count": null,
   "metadata": {},
   "outputs": [],
   "source": [
    "R = nx.gnm_random_graph(100, 292)\n",
    "hist = nx.degree_histogram(R)\n",
    "df = pd.DataFrame(hist)\n",
    "df.plot.bar()"
   ]
  },
  {
   "cell_type": "markdown",
   "metadata": {},
   "source": [
    "Does that look like a binomial distribution?"
   ]
  },
  {
   "cell_type": "markdown",
   "metadata": {},
   "source": [
    "* For parameters $n$ and $m$ chosen identical to those of the worm brain graph `G`,\n",
    "construct a random $G(n, m)$ graph `R`.\n",
    "\n",
    "* Determine and plot the degree histogram of `R`.\n",
    "\n",
    "* Determine and plot the degree histogram of `G`.\n",
    "\n",
    "* In your own words, describe the difference in appearance between the two plots (please use the comment box below for that)."
   ]
  },
  {
   "cell_type": "code",
   "execution_count": null,
   "metadata": {},
   "outputs": [],
   "source": [
    "## your code here"
   ]
  },
  {
   "cell_type": "code",
   "execution_count": null,
   "metadata": {},
   "outputs": [],
   "source": [
    "## your code here"
   ]
  },
  {
   "cell_type": "markdown",
   "metadata": {},
   "source": [
    "... your comments here ..."
   ]
  },
  {
   "cell_type": "markdown",
   "metadata": {},
   "source": [
    "## 3. Small World Models."
   ]
  },
  {
   "cell_type": "markdown",
   "metadata": {},
   "source": [
    "Random graphs in the Watts-Strogatz model are obtained from a regular\n",
    "$(n, d)$-circle graph by randomly rewiring all edges with a given probability $p$.\n",
    "Such a graph can be generated with the command `nx.watts_strogatz_graph(n, 2*d, p)`\n",
    "(note that the second argument is actually `2*d`)."
   ]
  },
  {
   "cell_type": "code",
   "execution_count": null,
   "metadata": {},
   "outputs": [],
   "source": [
    "n, d, p = 16, 3, 0.16\n",
    "G = nx.watts_strogatz_graph(n, 2*d, p)\n",
    "nx.draw_circular(G, **opts)"
   ]
  },
  {
   "cell_type": "markdown",
   "metadata": {},
   "source": [
    "Watts-Strogatz random graphs are supposed to be like real world networks in the sense that they\n",
    "combine relatively *short* characteristic path lengths with relatively *high* clustering coefficients."
   ]
  },
  {
   "cell_type": "markdown",
   "metadata": {},
   "source": [
    "*  For values $n = 1500$ and $d = 6$, produce a sequence of 50 $(n, d, p)$-WS graphs\n",
    "for different values of $p$ between $0$ and $1$\n",
    "(including the extreme cases $p = 0$ and $p = 1$).  Compute and compare their\n",
    "(graph) clustering coefficients and their characteristic path lengths.\n",
    "(Use smaller values of $n$ if $n = 1500$ turns out to be too demanding on resources.)\n",
    "\n",
    "* In your own words, in which range of values of $p$ do the generated graphs\n",
    "indeed have high clustering and short paths?"
   ]
  },
  {
   "cell_type": "code",
   "execution_count": null,
   "metadata": {},
   "outputs": [],
   "source": [
    "## your code here"
   ]
  },
  {
   "cell_type": "code",
   "execution_count": null,
   "metadata": {},
   "outputs": [],
   "source": [
    "## your code here"
   ]
  },
  {
   "cell_type": "markdown",
   "metadata": {},
   "source": [
    "... your comments here ..."
   ]
  }
 ],
 "metadata": {
  "kernelspec": {
   "display_name": "Python 3 (ipykernel)",
   "language": "python",
   "name": "python3"
  },
  "language_info": {
   "codemirror_mode": {
    "name": "ipython",
    "version": 3
   },
   "file_extension": ".py",
   "mimetype": "text/x-python",
   "name": "python",
   "nbconvert_exporter": "python",
   "pygments_lexer": "ipython3",
   "version": "3.9.7"
  }
 },
 "nbformat": 4,
 "nbformat_minor": 2
}
